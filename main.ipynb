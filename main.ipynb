{
 "cells": [
  {
   "cell_type": "code",
   "execution_count": 14,
   "metadata": {},
   "outputs": [
    {
     "name": "stdout",
     "output_type": "stream",
     "text": [
      "Select the problem type: \n",
      " 1. Numeric\n",
      " 2. Tsp\n",
      "Select the Argorithm type\n",
      " 1. SteepedAscent \n",
      " 2. FirstChoice\n",
      " 3. GradientDescent\n"
     ]
    },
    {
     "ename": "TypeError",
     "evalue": "HillClimbing.setVariables() takes 1 positional argument but 2 were given",
     "output_type": "error",
     "traceback": [
      "\u001b[1;31m---------------------------------------------------------------------------\u001b[0m",
      "\u001b[1;31mTypeError\u001b[0m                                 Traceback (most recent call last)",
      "Cell \u001b[1;32mIn[14], line 48\u001b[0m\n\u001b[0;32m     43\u001b[0m         \u001b[39mreturn\u001b[39;00m \u001b[39mNone\u001b[39;00m\n\u001b[0;32m     46\u001b[0m     \u001b[39mreturn\u001b[39;00m alg    \n\u001b[1;32m---> 48\u001b[0m main() \n",
      "Cell \u001b[1;32mIn[14], line 8\u001b[0m, in \u001b[0;36mmain\u001b[1;34m()\u001b[0m\n\u001b[0;32m      6\u001b[0m \u001b[39mdef\u001b[39;00m \u001b[39mmain\u001b[39m():\n\u001b[0;32m      7\u001b[0m     p,pType\u001b[39m=\u001b[39m selectProblem() \u001b[39m#pType: 1 or 2\u001b[39;00m\n\u001b[1;32m----> 8\u001b[0m     alg \u001b[39m=\u001b[39m selectAlgorithm(pType)\n\u001b[0;32m      9\u001b[0m     alg\u001b[39m.\u001b[39mrun(p)\n\u001b[0;32m     10\u001b[0m     p\u001b[39m.\u001b[39mdescribe()\n",
      "Cell \u001b[1;32mIn[14], line 40\u001b[0m, in \u001b[0;36mselectAlgorithm\u001b[1;34m(pType)\u001b[0m\n\u001b[0;32m     38\u001b[0m optimizers \u001b[39m=\u001b[39m {\u001b[39m1\u001b[39m:\u001b[39m\"\u001b[39m\u001b[39mSteepedAscent()\u001b[39m\u001b[39m\"\u001b[39m ,\u001b[39m2\u001b[39m:\u001b[39m\"\u001b[39m\u001b[39mFirstChoice()\u001b[39m\u001b[39m\"\u001b[39m ,\u001b[39m3\u001b[39m:\u001b[39m\"\u001b[39m\u001b[39mGradientDescent()\u001b[39m\u001b[39m\"\u001b[39m}\n\u001b[0;32m     39\u001b[0m alg \u001b[39m=\u001b[39m \u001b[39meval\u001b[39m(optimizers[algType])\n\u001b[1;32m---> 40\u001b[0m alg\u001b[39m.\u001b[39;49msetVariables(pType)\n\u001b[0;32m     41\u001b[0m \u001b[39mif\u001b[39;00m algType \u001b[39mis\u001b[39;00m \u001b[39mNone\u001b[39;00m:\n\u001b[0;32m     42\u001b[0m     \u001b[39mprint\u001b[39m(\u001b[39m\"\u001b[39m\u001b[39mNo type\u001b[39m\u001b[39m\"\u001b[39m)\n",
      "\u001b[1;31mTypeError\u001b[0m: HillClimbing.setVariables() takes 1 positional argument but 2 were given"
     ]
    }
   ],
   "source": [
    "from Problem import *\n",
    "from optimizer import *\n",
    "# problem/Convex.txt\n",
    "# problem/Ackley.txt\n",
    "# problem/Griewank.txt\n",
    "def main():\n",
    "    p,pType= selectProblem() #pType: 1 or 2\n",
    "    alg = selectAlgorithm(pType)\n",
    "    alg.run(p)\n",
    "    p.describe()\n",
    "    alg.displaySetting()\n",
    "    p.report()\n",
    "\n",
    "def selectProblem():\n",
    "    print(\"Select the problem type: \")\n",
    "    print(\" 1. Numeric\")\n",
    "    print(\" 2. Tsp\")\n",
    "    pType = int(input(\"Enter the number: \"))\n",
    "    \n",
    "    if pType ==1:\n",
    "        p = Numeric() \n",
    "    elif pType ==2:\n",
    "        p = Tsp()\n",
    "    else:\n",
    "        print(\"No type\")\n",
    "    p.setVariables()\n",
    "    \n",
    "    return p, pType    \n",
    "       \n",
    "\n",
    "def selectAlgorithm(pType):\n",
    "    print(\"Select the Argorithm type\")\n",
    "    print(\" 1. SteepedAscent \")\n",
    "    print(\" 2. FirstChoice\")\n",
    "    print(\" 3. GradientDescent\")\n",
    "    \n",
    "    algType = int(input(\"Enter the number : \"))\n",
    "    optimizers = {1:\"SteepedAscent()\" ,2:\"FirstChoice()\" ,3:\"GradientDescent()\"}\n",
    "    alg = eval(optimizers[algType])\n",
    "    alg.setVariables(pType)\n",
    "    if algType is None:\n",
    "        print(\"No type\")\n",
    "        return None\n",
    "    \n",
    "    \n",
    "    return alg    \n",
    "    \n",
    "main() \n",
    "            "
   ]
  }
 ],
 "metadata": {
  "kernelspec": {
   "display_name": "Python 3",
   "language": "python",
   "name": "python3"
  },
  "language_info": {
   "codemirror_mode": {
    "name": "ipython",
    "version": 3
   },
   "file_extension": ".py",
   "mimetype": "text/x-python",
   "name": "python",
   "nbconvert_exporter": "python",
   "pygments_lexer": "ipython3",
   "version": "3.11.4"
  },
  "orig_nbformat": 4
 },
 "nbformat": 4,
 "nbformat_minor": 2
}
